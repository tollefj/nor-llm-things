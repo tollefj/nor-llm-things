{
 "cells": [
  {
   "cell_type": "code",
   "execution_count": 1,
   "metadata": {},
   "outputs": [],
   "source": [
    "import os\n",
    "\n",
    "os.environ[\"CUDA_DEVICE_ORDER\"]=\"PCI_BUS_ID\"\n",
    "os.environ[\"CUDA_VISIBLE_DEVICES\"]=\"1\""
   ]
  },
  {
   "cell_type": "code",
   "execution_count": 2,
   "metadata": {},
   "outputs": [],
   "source": [
    "from transformers import AutoTokenizer, AutoModelForCausalLM, pipeline\n",
    "model_id = \"RuterNorway/Llama-2-13b-chat-norwegian-GPTQ\"\n",
    "model = AutoModelForCausalLM.from_pretrained(model_id, device_map=\"auto\")\n",
    "tokenizer = AutoTokenizer.from_pretrained(model_id)"
   ]
  },
  {
   "cell_type": "code",
   "execution_count": 3,
   "metadata": {},
   "outputs": [],
   "source": [
    "import re\n",
    "def preprocess(text):\n",
    "    text = re.sub(r\"\\s+\", \" \", text).strip()\n",
    "    text = re.sub(r\"(^|\\n)- \", r\"\\1\", text)\n",
    "    return text"
   ]
  },
  {
   "cell_type": "code",
   "execution_count": 4,
   "metadata": {},
   "outputs": [],
   "source": [
    "pipe = pipeline(\"text-generation\", model=model, do_sample=True, tokenizer=tokenizer, max_new_tokens=512, temperature=0.7, top_p=0.95, repetition_penalty=1.15)"
   ]
  },
  {
   "cell_type": "code",
   "execution_count": 5,
   "metadata": {},
   "outputs": [
    {
     "name": "stdout",
     "output_type": "stream",
     "text": [
      "### Instruction: Oppsumer følgende tekst kort\n",
      "### Input: Opposisjonen på Stortinget kom med ramsalt kritikk av NSM-saken i Stortinget i dag. Flere var også sterkt kritiske til Justisdepartementets rolle i innleggene etter Mehls redegjørelse. – Spørsmålet er jo hvordan et så alvorlig regelbrudd kunne skje, uten at det ble fanget opp underveis, sa Fremskrittspartiets Hans Andreas Limi. – Det er vanskelig å forstå hvordan en prosess i NSM som Justisdepartementet åpenbart var misfornøyd med, kunne fortsette uten inngripen fra departementet, fortsatte han. Høyres Peter Frølich som leder kontrollkomiteen på Stortinget, beskrev saken som alvorlig av flere grunner: – Saken er alvorlig for det er snakk om store summer til oppsiktsvekkende vilkår og fordi den reiser spørsmål om regjeringens etatsstyring og mest av alt fordi Grunnloven har klare regler for hvem som kan pådra staten gjeld, sa Frølich og fortsatte: – Det vesentlige spørsmålet er om det er utvist tilstrekkelig aktsomhet, styring og kontroll fra de som sitter med ansvaret. Også regjeringens budsjettpartner SV er kritisk: – Hvordan er det mulig at en etat går langt utover sine fullmakter uten at noen plukker dette opp. Står vi overfor en etat som seilte sin egen sjø, eller et system som ikke har gode rutiner, en manglende kontroll? Det har vi ennå ikke fått klarhet i, sa SVs Andreas Sjalg Unneland i sitt innlegg. Venstres Ingvild Wetrhus Thorsvik sa det slik: – Det er ganske enkelt ufattelig at dette kunne skje. NSMs låneopptak er ikke bare et brudd på Stortingets bevilgningsreglement og Grunnloven - det er hårreisende sløsing med offentlige midler. Det er unødvendig, uansvarlig og har som konsekvens at fellesskapets midler tilfaller private.\n",
      "### Response:\n",
      "Stortinget diskuterte i dag NSM-saken og kritiserte Justisdepartementets rolle i saken. Fremskrittspartiets Hans Andreas Limi sa at det er vanskelig å forstå hvordan et regelbrudd kunne skje uten at det ble fanget opp. Høyres Peter Frølich sa at saken er alvorlig fordi det er snakk om store summer til oppsiktsvekkende vilkår og fordi det reiser spørsmål om regjeringens etatsstyring og Grunnloven. Regjeringens budsjettpartner SV er også kritisk og spurte om det er et system som ikke har gode rutiner eller en manglende kontroll. Venstres Ingvild Wetrhus Thorsvik sa at det er ufatt\n",
      "Oppositionen i Stortinget kritiserte mye Justisdepartements rollen i Norges Miljøverninstitutt (NSM) saksøksomheten og spurte hvorfor selskapet fikk store beløp i strid med bevilgningene og lovverket. Regjeringspartierne sier at de ikke kan forstå hvorfor ingeniørprosessen deres ikke ble stoppet av Justisdepartementet.\n"
     ]
    }
   ],
   "source": [
    "# Regular prompting\n",
    "instruction = \"Oppsumer følgende tekst kort\"\n",
    "text = \"\"\"\n",
    "Opposisjonen på Stortinget kom med ramsalt kritikk av NSM-saken i Stortinget i dag. Flere var også sterkt kritiske til Justisdepartementets rolle i innleggene etter Mehls redegjørelse.\n",
    "– Spørsmålet er jo hvordan et så alvorlig regelbrudd kunne skje, uten at det ble fanget opp underveis, sa Fremskrittspartiets Hans Andreas Limi.\n",
    "\n",
    "– Det er vanskelig å forstå hvordan en prosess i NSM som Justisdepartementet åpenbart var misfornøyd med, kunne fortsette uten inngripen fra departementet, fortsatte han.\n",
    "\n",
    "Høyres Peter Frølich som leder kontrollkomiteen på Stortinget, beskrev saken som alvorlig av flere grunner:\n",
    "\n",
    "– Saken er alvorlig for det er snakk om store summer til oppsiktsvekkende vilkår og fordi den reiser spørsmål om regjeringens etatsstyring og mest av alt fordi Grunnloven har klare regler for hvem som kan pådra staten gjeld, sa Frølich og fortsatte:\n",
    "\n",
    "– Det vesentlige spørsmålet er om det er utvist tilstrekkelig aktsomhet, styring og kontroll fra de som sitter med ansvaret.\n",
    "\n",
    "Også regjeringens budsjettpartner SV er kritisk:\n",
    "\n",
    "– Hvordan er det mulig at en etat går langt utover sine fullmakter uten at noen plukker dette opp. Står vi overfor en etat som seilte sin egen sjø, eller et system som ikke har gode rutiner, en manglende kontroll? Det har vi ennå ikke fått klarhet i, sa SVs Andreas Sjalg Unneland i sitt innlegg.\n",
    "\n",
    "Venstres Ingvild Wetrhus Thorsvik sa det slik:\n",
    "\n",
    "– Det er ganske enkelt ufattelig at dette kunne skje. NSMs låneopptak er ikke bare et brudd på Stortingets bevilgningsreglement og Grunnloven - det er hårreisende sløsing med offentlige midler. Det er unødvendig, uansvarlig og har som konsekvens at fellesskapets midler tilfaller private.\n",
    "\"\"\"  # https://www.nrk.no/nyheter/nsm-tok-opp-ulovlige-lan-1.16670810#1.16718170.1.16718170\n",
    "\n",
    "prompt_template=f'''### Instruction: {instruction}\n",
    "### Input: {preprocess(text)}\n",
    "### Response:\n",
    "'''\n",
    "inputs = tokenizer(prompt_template, return_tensors=\"pt\").to(0)\n",
    "out = model.generate(**inputs, max_new_tokens=200)\n",
    "print(tokenizer.decode(out[0], skip_special_tokens=True))\n",
    "print(pipe(prompt_template)[0]['generated_text'][len(prompt_template):])"
   ]
  }
 ],
 "metadata": {
  "kernelspec": {
   "display_name": "venv",
   "language": "python",
   "name": "python3"
  },
  "language_info": {
   "codemirror_mode": {
    "name": "ipython",
    "version": 3
   },
   "file_extension": ".py",
   "mimetype": "text/x-python",
   "name": "python",
   "nbconvert_exporter": "python",
   "pygments_lexer": "ipython3",
   "version": "3.8.10"
  }
 },
 "nbformat": 4,
 "nbformat_minor": 2
}
